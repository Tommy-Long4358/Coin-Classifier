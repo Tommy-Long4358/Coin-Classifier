{
 "cells": [
  {
   "cell_type": "markdown",
   "metadata": {},
   "source": [
    "## Set up Device"
   ]
  },
  {
   "cell_type": "code",
   "execution_count": 1,
   "metadata": {},
   "outputs": [],
   "source": [
    "import torch\n",
    "\n",
    "import os\n",
    "import random\n",
    "import matplotlib.pyplot as plt\n",
    "import json\n",
    "import re\n",
    "\n",
    "import numpy as np\n",
    "import pandas as pd\n",
    "\n",
    "import helper\n",
    "\n",
    "from torch import nn\n",
    "from torchvision import transforms, datasets\n",
    "from torch.utils.data import DataLoader, Dataset\n",
    "\n",
    "from pathlib import Path\n",
    "from PIL import Image"
   ]
  },
  {
   "cell_type": "code",
   "execution_count": 2,
   "metadata": {},
   "outputs": [
    {
     "data": {
      "text/plain": [
       "device(type='cuda')"
      ]
     },
     "execution_count": 2,
     "metadata": {},
     "output_type": "execute_result"
    }
   ],
   "source": [
    "# Set up device\n",
    "device = torch.device(\"cuda\" if torch.cuda.is_available() else \"cpu\")\n",
    "device"
   ]
  },
  {
   "cell_type": "code",
   "execution_count": 3,
   "metadata": {},
   "outputs": [
    {
     "name": "stdout",
     "output_type": "stream",
     "text": [
      "File already made!\n",
      "      id      Amount           Currency    Country\n",
      "0      1      1 Cent  Australian dollar  australia\n",
      "1      2     2 Cents  Australian dollar  australia\n",
      "2      3     5 Cents  Australian dollar  australia\n",
      "3      4    10 Cents  Australian dollar  australia\n",
      "4      5    20 Cents  Australian dollar  australia\n",
      "..   ...         ...                ...        ...\n",
      "206  207     5 Cents          US Dollar        usa\n",
      "207  208      1 Dime          US Dollar        usa\n",
      "208  209  1 4 Dollar          US Dollar        usa\n",
      "209  210  1 2 Dollar          US Dollar        usa\n",
      "210  211    1 Dollar          US Dollar        usa\n",
      "\n",
      "[211 rows x 4 columns]\n"
     ]
    }
   ],
   "source": [
    "# Make CSV file from JSON file\n",
    "\n",
    "# Check if .csv files exists for dataset\n",
    "if not os.path.exists(\"coins.csv\"):\n",
    "    print(\"File not found! Making file...\")\n",
    "\n",
    "    # Read from JSON file\n",
    "    with open(\"archive/cat_to_name.json\", \"r\") as f:\n",
    "        # Load data\n",
    "        data = json.load(f)\n",
    "\n",
    "        # Create DataFrame\n",
    "        # id - folder name\n",
    "        # amount - currency amount\n",
    "        # currency - name of currency\n",
    "        # country - country that currency is from\n",
    "        df = pd.DataFrame(data={\n",
    "            \"id\": [key for key in data.keys()],\n",
    "            \"Amount\": [value.split(\",\")[0] for value in data.values()],\n",
    "            \"Currency\": [value.split(\",\")[1] for value in data.values()],\n",
    "            \"Country\": [value.split(\",\")[2] for value in data.values()]\n",
    "        })\n",
    "\n",
    "        # Convert dataframe to .csv file\n",
    "        csv_data = df.to_csv(\"coins.csv\", index=False)\n",
    "\n",
    "else:\n",
    "    print(\"File already made!\")\n",
    "\n",
    "print(pd.read_csv(\"coins.csv\"))"
   ]
  },
  {
   "cell_type": "code",
   "execution_count": 4,
   "metadata": {},
   "outputs": [],
   "source": [
    "# Read CSV file \n",
    "df = pd.read_csv(\"coins.csv\")\n",
    "\n",
    "# Get all unique classes from amounts and currencies\n",
    "amounts = df[:][\"Amount\"]\n",
    "currencies = df[:][\"Currency\"]\n",
    "countries = df[:][\"Country\"]\n",
    "ids = df[:][\"id\"]\n",
    "\n",
    "ids = list(ids)\n",
    "classes = list(zip(amounts, countries))"
   ]
  },
  {
   "cell_type": "code",
   "execution_count": 5,
   "metadata": {},
   "outputs": [
    {
     "data": {
      "text/plain": [
       "(('5 Korun', 'czech_republic'), 43, 42)"
      ]
     },
     "execution_count": 5,
     "metadata": {},
     "output_type": "execute_result"
    }
   ],
   "source": [
    "rand_index = random.randint(0, len(classes))\n",
    "\n",
    "classes[rand_index], ids[rand_index], rand_index"
   ]
  },
  {
   "cell_type": "code",
   "execution_count": 6,
   "metadata": {},
   "outputs": [],
   "source": [
    "archive_path = Path(\"archive\")\n",
    "\n",
    "coin_path = archive_path / \"coins\"\n",
    "data_path = coin_path / \"data\"\n",
    "\n",
    "train_dir = data_path / \"train\"\n",
    "valid_dir = data_path / \"validation\""
   ]
  },
  {
   "cell_type": "code",
   "execution_count": 7,
   "metadata": {},
   "outputs": [],
   "source": [
    "class CoinDataset(Dataset):\n",
    "    def __init__(self, dataset_dir, transform=None):\n",
    "        self.transform = transform\n",
    "        self.dataset_dir = dataset_dir\n",
    "        self.images = list(self.dataset_dir.glob(\"*/*.jpg\"))\n",
    "    \n",
    "    def __len__(self):\n",
    "        return len(self.images)\n",
    "    \n",
    "    def __getitem__(self, index):\n",
    "        # Get image path from list of images in dataset directory\n",
    "        image_path = self.images[index]\n",
    "\n",
    "        # Get name of image\n",
    "        image_name = image_path.name\n",
    "\n",
    "        # open image\n",
    "        img = Image.open(image_path)\n",
    "\n",
    "        # Get number of occurences that \"_\" is present\n",
    "        occurence = [m.start() for m in re.finditer(r\"_\", image_name)]\n",
    "\n",
    "        # Get amount associated with image\n",
    "        amount = image_name.split(\"_\")[2]\n",
    "\n",
    "        # 4 occurences means that the country is two words, else its 1 word\n",
    "        if len(occurence) == 4:\n",
    "            # Split name at the middle point and omit \".jpg\"\n",
    "            country = image_name[occurence[len(occurence) // 2] + 1:image_name.index(\".\")]\n",
    "\n",
    "        else:\n",
    "            # Split name at the end\n",
    "            country = image_name[occurence[len(occurence) - 1] + 1:image_name.index(\".\")]\n",
    "\n",
    "        classes_index = classes.index((amount, country))\n",
    "        \n",
    "        '''\n",
    "        if self.transform:\n",
    "            return self.transform(img), ids[classes_index]\n",
    "        \n",
    "        return img, ids[classes_index]\n",
    "        '''\n",
    "\n",
    "        #print(image_name, classes[classes_index], ids[classes_index])\n",
    "        return (self.transform(img), int(ids[classes_index])) if self.transform else (img, int(ids[classes_index]))"
   ]
  },
  {
   "cell_type": "code",
   "execution_count": 8,
   "metadata": {},
   "outputs": [],
   "source": [
    "transform = transforms.Compose([\n",
    "    transforms.Resize((64, 64)),\n",
    "    transforms.ToTensor()\n",
    "])"
   ]
  },
  {
   "cell_type": "code",
   "execution_count": 9,
   "metadata": {},
   "outputs": [
    {
     "data": {
      "text/plain": [
       "(6413, 844)"
      ]
     },
     "execution_count": 9,
     "metadata": {},
     "output_type": "execute_result"
    }
   ],
   "source": [
    "train_data = CoinDataset(train_dir, transform)\n",
    "valid_data = CoinDataset(valid_dir, transform)\n",
    "\n",
    "len(train_data), len(valid_data)"
   ]
  },
  {
   "cell_type": "code",
   "execution_count": 10,
   "metadata": {},
   "outputs": [
    {
     "data": {
      "text/plain": [
       "torch.Size([3, 64, 64, 6413])"
      ]
     },
     "execution_count": 10,
     "metadata": {},
     "output_type": "execute_result"
    }
   ],
   "source": [
    "imgs = torch.stack([img_t for img_t, _ in train_data], dim=3)\n",
    "imgs.shape"
   ]
  },
  {
   "cell_type": "code",
   "execution_count": 11,
   "metadata": {},
   "outputs": [
    {
     "data": {
      "text/plain": [
       "tensor([0.5585, 0.5333, 0.4820])"
      ]
     },
     "execution_count": 11,
     "metadata": {},
     "output_type": "execute_result"
    }
   ],
   "source": [
    "mean = imgs.view(3, -1).mean(dim=1)\n",
    "mean"
   ]
  },
  {
   "cell_type": "code",
   "execution_count": 12,
   "metadata": {},
   "outputs": [
    {
     "data": {
      "text/plain": [
       "tensor([0.2529, 0.2534, 0.2777])"
      ]
     },
     "execution_count": 12,
     "metadata": {},
     "output_type": "execute_result"
    }
   ],
   "source": [
    "std = imgs.view(3, -1).std(dim=1)\n",
    "std"
   ]
  },
  {
   "cell_type": "code",
   "execution_count": 13,
   "metadata": {},
   "outputs": [],
   "source": [
    "coin_stats = (mean, std)"
   ]
  },
  {
   "cell_type": "code",
   "execution_count": 26,
   "metadata": {},
   "outputs": [],
   "source": [
    "normalize_transform = transforms.Compose([\n",
    "    transforms.Resize(size=(64, 64)),\n",
    "    transforms.ToTensor(),\n",
    "    transforms.Normalize(*coin_stats)\n",
    "])"
   ]
  },
  {
   "cell_type": "code",
   "execution_count": 27,
   "metadata": {},
   "outputs": [],
   "source": [
    "train_data = CoinDataset(train_dir, normalize_transform)"
   ]
  },
  {
   "cell_type": "code",
   "execution_count": 28,
   "metadata": {},
   "outputs": [],
   "source": [
    "def show_tensor_image(dataset, stats, classes):\n",
    "    # Choose random image from dataset\n",
    "    rand_index = random.randint(0, len(dataset))\n",
    "\n",
    "    # Retrieve image and associated label\n",
    "    img, label = dataset[rand_index][0], dataset[rand_index][1]\n",
    "\n",
    "    # Denormalized image with calculations\n",
    "    denorm_img = img * stats[1][0] + stats[0][0]\n",
    "\n",
    "    # Display image as a tensor\n",
    "    print(f\"Image tensor:\\n{img}\")\n",
    "\n",
    "    # Display shape of image\n",
    "    print(f\"Image shape: {img.shape}\")\n",
    "\n",
    "    print(f'Image Label: {classes[label - 1]}')\n",
    "    # Display label associated with image: the actual label and its ID label\n",
    "    print(f\"Image ID Label: {label}\")\n",
    "\n",
    "    # Show the image filepath to verify label and image match up\n",
    "\n",
    "    # Show denormalized image\n",
    "    plt.imshow(denorm_img.permute(1, 2, 0))"
   ]
  },
  {
   "cell_type": "code",
   "execution_count": 38,
   "metadata": {},
   "outputs": [
    {
     "name": "stderr",
     "output_type": "stream",
     "text": [
      "Clipping input data to the valid range for imshow with RGB data ([0..1] for floats or [0..255] for integers).\n"
     ]
    },
    {
     "name": "stdout",
     "output_type": "stream",
     "text": [
      "Image tensor:\n",
      "tensor([[[1.7459, 1.7459, 1.7459,  ..., 0.7999, 1.0015, 0.6914],\n",
      "         [1.7459, 1.7459, 1.7459,  ..., 0.7844, 0.9395, 0.7534],\n",
      "         [1.7459, 1.7459, 1.7459,  ..., 0.7534, 0.8465, 0.7069],\n",
      "         ...,\n",
      "         [1.7459, 1.7459, 1.7459,  ..., 0.7689, 0.8775, 0.6603],\n",
      "         [1.7459, 1.7459, 1.7459,  ..., 0.7224, 0.8620, 0.6759],\n",
      "         [1.7459, 1.7459, 1.7459,  ..., 0.5673, 0.6448, 0.6603]],\n",
      "\n",
      "        [[1.8416, 1.8416, 1.8416,  ..., 0.9904, 1.1761, 0.9131],\n",
      "         [1.8416, 1.8416, 1.8416,  ..., 0.9750, 1.0988, 0.9595],\n",
      "         [1.8416, 1.8416, 1.8416,  ..., 0.9595, 1.0369, 0.9131],\n",
      "         ...,\n",
      "         [1.8416, 1.8416, 1.8416,  ..., 0.9595, 1.0523, 0.8666],\n",
      "         [1.8416, 1.8416, 1.8416,  ..., 0.9285, 1.0369, 0.8821],\n",
      "         [1.8416, 1.8416, 1.8416,  ..., 0.7738, 0.8512, 0.8821]],\n",
      "\n",
      "        [[1.8654, 1.8654, 1.8654,  ..., 1.2299, 1.3570, 1.1593],\n",
      "         [1.8654, 1.8654, 1.8654,  ..., 1.2158, 1.2864, 1.2017],\n",
      "         [1.8654, 1.8654, 1.8654,  ..., 1.2017, 1.2723, 1.1735],\n",
      "         ...,\n",
      "         [1.8654, 1.8654, 1.8654,  ..., 1.2017, 1.2723, 1.1452],\n",
      "         [1.8654, 1.8654, 1.8654,  ..., 1.1876, 1.2582, 1.1452],\n",
      "         [1.8654, 1.8654, 1.8654,  ..., 1.1028, 1.1311, 1.1452]]])\n",
      "Image shape: torch.Size([3, 64, 64])\n",
      "Image Label: ('20 Kroner', 'denmark')\n",
      "Image ID Label: 53\n"
     ]
    },
    {
     "data": {
      "image/png": "[encoded data removed]",
      "text/plain": [
       "<Figure size 640x480 with 1 Axes>"
      ]
     },
     "metadata": {},
     "output_type": "display_data"
    }
   ],
   "source": [
    "show_tensor_image(train_data, coin_stats, classes)"
   ]
  },
  {
   "cell_type": "code",
   "execution_count": 203,
   "metadata": {},
   "outputs": [],
   "source": [
    "BATCH_SIZE = 128\n",
    "NUM_WORKERS = os.cpu_count()\n",
    "\n",
    "print(NUM_WORKERS)\n",
    "\n",
    "train_dataloader = DataLoader(dataset=train_data,\n",
    "                              batch_size=BATCH_SIZE,\n",
    "                              num_workers=NUM_WORKERS)\n",
    "\n",
    "valid_dataloader = DataLoader(dataset=valid_data,\n",
    "                              batch_size=BATCH_SIZE,\n",
    "                              num_workers=NUM_WORKERS)"
   ]
  },
  {
   "cell_type": "code",
   "execution_count": 204,
   "metadata": {},
   "outputs": [],
   "source": [
    "train_dataloader_iter = iter(train_dataloader)\n",
    "\n",
    "for i in range(BATCH_SIZE):\n",
    "    x, y = next(train_dataloader_iter)\n",
    "\n",
    "    print(x, y)"
   ]
  }
 ],
 "metadata": {
  "kernelspec": {
   "display_name": "Python 3",
   "language": "python",
   "name": "python3"
  },
  "language_info": {
   "codemirror_mode": {
    "name": "ipython",
    "version": 3
   },
   "file_extension": ".py",
   "mimetype": "text/x-python",
   "name": "python",
   "nbconvert_exporter": "python",
   "pygments_lexer": "ipython3",
   "version": "3.9.5"
  },
  "orig_nbformat": 4
 },
 "nbformat": 4,
 "nbformat_minor": 2
}
